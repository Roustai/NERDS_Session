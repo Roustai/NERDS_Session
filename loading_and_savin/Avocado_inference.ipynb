{
 "cells": [
  {
   "cell_type": "code",
   "execution_count": 1,
   "metadata": {},
   "outputs": [],
   "source": [
    "import torch\n",
    "import numpy as np\n",
    "from torch import nn\n",
    "from torch.utils.data import Dataset, DataLoader\n",
    "import os\n",
    "import pandas as pd\n",
    "from sklearn.preprocessing import StandardScaler, LabelEncoder\n",
    "from pickle import dump, load\n",
    "\n",
    "\n",
    "\n",
    "device = 'cuda' if torch.cuda.is_available() else 'cpu'\n",
    "#device = 'cpu'"
   ]
  },
  {
   "cell_type": "code",
   "execution_count": 2,
   "metadata": {},
   "outputs": [
    {
     "name": "stdout",
     "output_type": "stream",
     "text": [
      "running on cuda\n"
     ]
    }
   ],
   "source": [
    "print(f'running on {device}')\n",
    "file_location = os.getcwd()"
   ]
  },
  {
   "cell_type": "code",
   "execution_count": 3,
   "metadata": {},
   "outputs": [],
   "source": [
    "#Load in data scaling\n",
    "scaler = load(open(file_location + '/scaler_cuda.pkl','rb'))\n",
    "\n",
    "#Load in label encoding\n",
    "le  = LabelEncoder()\n",
    "le.classes_ = np.load(file_location + '/encoding_cuda.npy', allow_pickle=True)\n",
    "\n"
   ]
  },
  {
   "cell_type": "code",
   "execution_count": 4,
   "metadata": {},
   "outputs": [],
   "source": [
    "class testData(Dataset):\n",
    "\n",
    "    def __init__(self, X_data, y_data):\n",
    "        self.X_data = X_data\n",
    "        self.y_data = y_data\n",
    "\n",
    "    def __getitem__(self, index):\n",
    "        return self.X_data[index], self.y_data[index]\n",
    "\n",
    "    def __len__(self):\n",
    "        return len(self.X_data)"
   ]
  },
  {
   "cell_type": "code",
   "execution_count": 5,
   "metadata": {},
   "outputs": [],
   "source": [
    "class NeuralNetwork(nn.Module):\n",
    "    def __init__(self):\n",
    "        super(NeuralNetwork, self).__init__()\n",
    "        self.flatten = nn.Flatten()\n",
    "        self.linear_relu_stack = nn.Sequential(\n",
    "            nn.Linear(11, 128),\n",
    "            nn.LeakyReLU(),\n",
    "            nn.Linear(128, 128),\n",
    "            nn.LeakyReLU(),\n",
    "            nn.Linear(128, 1),\n",
    "        )\n",
    "\n",
    "    def forward(self, x):\n",
    "        x = self.flatten(x)\n",
    "        logits = self.linear_relu_stack(x)\n",
    "        return logits\n",
    "\n",
    "model = NeuralNetwork().to(device)"
   ]
  },
  {
   "cell_type": "code",
   "execution_count": 6,
   "metadata": {},
   "outputs": [],
   "source": [
    "#load in model, model must be loaded in after its class is instantiated\n",
    "#otherwise you will get a serialization error\n",
    "model = torch.load(file_location + '/avacado_model_cuda.pt')"
   ]
  },
  {
   "cell_type": "code",
   "execution_count": 7,
   "metadata": {},
   "outputs": [
    {
     "name": "stdout",
     "output_type": "stream",
     "text": [
      "   Unnamed: 0  AveragePrice  Total Volume        4046       4225      4770  \\\n",
      "0           0          1.07     417232.18   278048.26   62485.97    714.93   \n",
      "1           1          1.10     454702.00   382900.99   19543.18    522.81   \n",
      "2           2          2.03       1794.39     1069.54     187.76      0.00   \n",
      "3           3          1.38    1975524.70   833904.89  499191.31  10560.99   \n",
      "4           4          1.16    2197763.70  1420318.78  298081.99  25682.97   \n",
      "\n",
      "   Total Bags  Small Bags  Large Bags          type  year       region  \n",
      "0    75983.02    46290.32    29678.76  conventional  2015      Atlanta  \n",
      "1    51735.02    40505.16    11199.95  conventional  2015      Atlanta  \n",
      "2      537.09      500.00       37.09       organic  2016  GrandRapids  \n",
      "3   631867.51   584294.01    29543.77  conventional  2017       Plains  \n",
      "4   453679.96   309652.75   143978.69  conventional  2015    Southeast  \n"
     ]
    }
   ],
   "source": [
    "#read in files\n",
    "file_in = os.getcwd() + \"/avacados/avac_sample.csv\"\n",
    "df = pd.read_csv(file_in)\n",
    "\n",
    "df = df.drop(columns=['Date', 'XLarge Bags'])\n",
    "\n",
    "print(df.head())\n"
   ]
  },
  {
   "cell_type": "code",
   "execution_count": 8,
   "metadata": {},
   "outputs": [
    {
     "name": "stdout",
     "output_type": "stream",
     "text": [
      "   AveragePrice\n",
      "0          1.07\n",
      "1          1.10\n",
      "2          2.03\n",
      "3          1.38\n",
      "4          1.16\n",
      "5          1.13\n",
      "6          1.13\n",
      "7          1.17\n",
      "8          1.02\n",
      "9          2.39\n"
     ]
    },
    {
     "name": "stderr",
     "output_type": "stream",
     "text": [
      "<ipython-input-8-b81455a16b04>:8: SettingWithCopyWarning: \n",
      "A value is trying to be set on a copy of a slice from a DataFrame.\n",
      "Try using .loc[row_indexer,col_indexer] = value instead\n",
      "\n",
      "See the caveats in the documentation: https://pandas.pydata.org/pandas-docs/stable/user_guide/indexing.html#returning-a-view-versus-a-copy\n",
      "  X['type'] = le.fit_transform(X['type'].astype(str))\n",
      "<ipython-input-8-b81455a16b04>:9: SettingWithCopyWarning: \n",
      "A value is trying to be set on a copy of a slice from a DataFrame.\n",
      "Try using .loc[row_indexer,col_indexer] = value instead\n",
      "\n",
      "See the caveats in the documentation: https://pandas.pydata.org/pandas-docs/stable/user_guide/indexing.html#returning-a-view-versus-a-copy\n",
      "  X['region'] = le.fit_transform(X['region'].astype(str))\n"
     ]
    }
   ],
   "source": [
    "#Load data\n",
    "#print(df.head)\n",
    "X = df.iloc[:, df.columns != 'AveragePrice'] #grab first 13 elements for input\n",
    "y = df.loc[:, df.columns == 'AveragePrice']   #seperate last element (target values)\n",
    "\n",
    "le = LabelEncoder()\n",
    "#scaler = StandardScaler()\n",
    "X['type'] = le.fit_transform(X['type'].astype(str))\n",
    "X['region'] = le.fit_transform(X['region'].astype(str))\n",
    "X_test = scaler.fit_transform(X)\n",
    "\n",
    "print(y)"
   ]
  },
  {
   "cell_type": "code",
   "execution_count": 9,
   "metadata": {},
   "outputs": [],
   "source": [
    "#reshape data into a tensor of floats\n",
    "test_data = testData(torch.FloatTensor(X_test),torch.FloatTensor(y.values))\n",
    "dataloader = DataLoader(dataset=test_data, batch_size=1)\n",
    "\n"
   ]
  },
  {
   "cell_type": "code",
   "execution_count": 10,
   "metadata": {},
   "outputs": [
    {
     "name": "stdout",
     "output_type": "stream",
     "text": [
      "The predicted model generated 27.95205\t actual was 1.07 \t difference was 26.88205\n",
      "The predicted model generated 28.88719\t actual was 1.1 \t difference was 27.78719\n",
      "The predicted model generated 44.60019\t actual was 2.03 \t difference was 42.57019\n",
      "The predicted model generated 1.22165\t actual was 1.38 \t difference was -0.15835\n",
      "The predicted model generated 1.14346\t actual was 1.16 \t difference was -0.01654\n",
      "The predicted model generated 1.31009\t actual was 1.13 \t difference was 0.18009\n",
      "The predicted model generated 27.73861\t actual was 1.13 \t difference was 26.60861\n",
      "The predicted model generated 11.79626\t actual was 1.17 \t difference was 10.62626\n",
      "The predicted model generated 0.92449\t actual was 1.02 \t difference was -0.09551\n",
      "The predicted model generated 36.7055\t actual was 2.39 \t difference was 34.3155\n"
     ]
    }
   ],
   "source": [
    "size = len(dataloader.dataset)\n",
    "num_batches = len(dataloader)\n",
    "model.eval()\n",
    "test_loss, correct = 0, 0\n",
    "with torch.no_grad():\n",
    "    for X, y in dataloader:\n",
    "        X, y = X.to(device), y.to(device)\n",
    "        pred = model(X)\n",
    "        print(f'''The predicted model generated {round(pred.item(),5)}\\t actual was {round(y.item(), 5)} \\t difference was {round((pred-y).item(),5)}''')"
   ]
  },
  {
   "cell_type": "code",
   "execution_count": null,
   "metadata": {},
   "outputs": [],
   "source": []
  },
  {
   "cell_type": "code",
   "execution_count": null,
   "metadata": {},
   "outputs": [],
   "source": []
  }
 ],
 "metadata": {
  "interpreter": {
   "hash": "1ee0f0552ca2c9e7cec3cdae733161fc23c5f174304364ffa8fbb67d8ed0ab79"
  },
  "kernelspec": {
   "display_name": "Python 3.8.8 64-bit ('base': conda)",
   "name": "python3"
  },
  "language_info": {
   "codemirror_mode": {
    "name": "ipython",
    "version": 3
   },
   "file_extension": ".py",
   "mimetype": "text/x-python",
   "name": "python",
   "nbconvert_exporter": "python",
   "pygments_lexer": "ipython3",
   "version": "3.8.8"
  }
 },
 "nbformat": 4,
 "nbformat_minor": 4
}
